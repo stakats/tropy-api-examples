{
 "cells": [
  {
   "cell_type": "markdown",
   "id": "e675e841-ee0b-45a1-be69-e797cc5469b2",
   "metadata": {
    "execution": {
     "iopub.execute_input": "2024-12-13T10:58:07.920418Z",
     "iopub.status.busy": "2024-12-13T10:58:07.920250Z",
     "iopub.status.idle": "2024-12-13T10:58:08.245951Z",
     "shell.execute_reply": "2024-12-13T10:58:08.245606Z",
     "shell.execute_reply.started": "2024-12-13T10:58:07.920403Z"
    }
   },
   "source": [
    "Processing pipeline adapted from Taylor Arnold and Lauren Tilton's \"Explainable Search and Discovery of Visual Cultural Heritage Collections with Multimodal Large Language Models\" https://2024.computational-humanities-research.org/papers/paper28/ "
   ]
  },
  {
   "cell_type": "code",
   "execution_count": 1,
   "id": "9addec5f-cda4-4c91-98a7-ee94a068d4f6",
   "metadata": {
    "execution": {
     "iopub.execute_input": "2024-12-13T11:58:40.401583Z",
     "iopub.status.busy": "2024-12-13T11:58:40.400425Z",
     "iopub.status.idle": "2024-12-13T11:58:40.707107Z",
     "shell.execute_reply": "2024-12-13T11:58:40.706838Z",
     "shell.execute_reply.started": "2024-12-13T11:58:40.401517Z"
    }
   },
   "outputs": [],
   "source": [
    "import os\n",
    "import tropy\n",
    "from openai import OpenAI\n",
    "from dotenv import load_dotenv\n",
    "import numpy as np\n",
    "import faiss\n",
    "import base64\n",
    "from PIL import Image\n",
    "from typing import List, Tuple"
   ]
  },
  {
   "cell_type": "code",
   "execution_count": 2,
   "id": "3b27076b-e71c-4e1b-b7b6-073c47a8db87",
   "metadata": {
    "execution": {
     "iopub.execute_input": "2024-12-13T11:58:40.708339Z",
     "iopub.status.busy": "2024-12-13T11:58:40.707781Z",
     "iopub.status.idle": "2024-12-13T11:58:40.733808Z",
     "shell.execute_reply": "2024-12-13T11:58:40.733531Z",
     "shell.execute_reply.started": "2024-12-13T11:58:40.708329Z"
    }
   },
   "outputs": [],
   "source": [
    "# Configuration\n",
    "# Set OpenAI API key\n",
    "load_dotenv()\n",
    "client = OpenAI(\n",
    "    api_key=os.environ.get(\"OPENAI_API_KEY\")\n",
    ")"
   ]
  },
  {
   "cell_type": "code",
   "execution_count": 3,
   "id": "9113da5a-7fa5-438f-b785-ca61c5069211",
   "metadata": {
    "execution": {
     "iopub.execute_input": "2024-12-13T11:58:40.734250Z",
     "iopub.status.busy": "2024-12-13T11:58:40.734149Z",
     "iopub.status.idle": "2024-12-13T11:58:40.735964Z",
     "shell.execute_reply": "2024-12-13T11:58:40.735748Z",
     "shell.execute_reply.started": "2024-12-13T11:58:40.734241Z"
    }
   },
   "outputs": [],
   "source": [
    "# Initialize a vector database (using FAISS for simplicity)\n",
    "DIMENSION = 3072  # Embedding dimension (ensure this matches your embedding model)\n",
    "index = faiss.IndexFlatL2(DIMENSION)"
   ]
  },
  {
   "cell_type": "code",
   "execution_count": 4,
   "id": "7387d256-417a-42ee-b1e7-dea8dfe8cb34",
   "metadata": {
    "execution": {
     "iopub.execute_input": "2024-12-13T11:58:40.736344Z",
     "iopub.status.busy": "2024-12-13T11:58:40.736258Z",
     "iopub.status.idle": "2024-12-13T11:58:40.737878Z",
     "shell.execute_reply": "2024-12-13T11:58:40.737622Z",
     "shell.execute_reply.started": "2024-12-13T11:58:40.736335Z"
    }
   },
   "outputs": [],
   "source": [
    "# Mapping of image embeddings to Tropy metadata\n",
    "metadata_store = {}"
   ]
  },
  {
   "cell_type": "code",
   "execution_count": 5,
   "id": "ce7bff66-5293-49fa-8806-6a3b751226ab",
   "metadata": {
    "execution": {
     "iopub.execute_input": "2024-12-13T11:58:40.739850Z",
     "iopub.status.busy": "2024-12-13T11:58:40.739465Z",
     "iopub.status.idle": "2024-12-13T11:58:40.743659Z",
     "shell.execute_reply": "2024-12-13T11:58:40.743141Z",
     "shell.execute_reply.started": "2024-12-13T11:58:40.739838Z"
    }
   },
   "outputs": [],
   "source": [
    "# Function to process an image and generate a caption\n",
    "def generate_caption(image_path: str) -> str:\n",
    "    \"\"\"\n",
    "    Generate a caption for an image using OpenAI's API.\n",
    "    \"\"\"\n",
    "    # Ensure the image file is not too large\n",
    "    max_size = 500 * 1024  # 500KB\n",
    "    if os.path.getsize(image_path) > max_size:\n",
    "\n",
    "        # Resize the image to reduce file size\n",
    "        with Image.open(image_path) as img:\n",
    "            img.thumbnail((800, 800))  # Resize to fit within 800x800 pixels\n",
    "            resized_path = \"temp_resized_image.jpg\"\n",
    "            img.save(resized_path, \"JPEG\")\n",
    "            image_path = resized_path\n",
    "\n",
    "    with open(image_path, \"rb\") as image_file:\n",
    "        img_b64_str = base64.b64encode(image_file.read()).decode(\"utf-8\")\n",
    "\n",
    "    # Delete temp file if it exists\n",
    "    try:\n",
    "        os.remove(\"temp_resized_image.jpg\")\n",
    "    except OSError:\n",
    "        pass\n",
    "\n",
    "    prompt = \"Please provide a detailed plain text description of what this photograph portrays. Also provide a description of its composition as a photograph.\"\n",
    "    \n",
    "    # Construct the payload\n",
    "    response = client.chat.completions.create(\n",
    "        model=\"gpt-4o\",\n",
    "        messages=[\n",
    "            {\n",
    "                \"role\": \"user\",\n",
    "                \"content\": [\n",
    "                    {\"type\": \"text\", \"text\": prompt},\n",
    "                    {\n",
    "                        \"type\": \"image_url\",\n",
    "                        \"image_url\": {\n",
    "                            \"url\": f\"data:image/jpeg;base64,{img_b64_str}\"\n",
    "                        },\n",
    "                    },\n",
    "                ],\n",
    "            }\n",
    "        ],\n",
    "        max_tokens=150  # Adjust this based on desired caption length\n",
    "    )\n",
    "\n",
    "    return response.choices[0].message.content.strip()"
   ]
  },
  {
   "cell_type": "code",
   "execution_count": 6,
   "id": "efaa680a-755e-47bd-aa0a-5b681e4bf012",
   "metadata": {
    "execution": {
     "iopub.execute_input": "2024-12-13T11:58:40.744188Z",
     "iopub.status.busy": "2024-12-13T11:58:40.744078Z",
     "iopub.status.idle": "2024-12-13T11:58:40.746268Z",
     "shell.execute_reply": "2024-12-13T11:58:40.745922Z",
     "shell.execute_reply.started": "2024-12-13T11:58:40.744176Z"
    }
   },
   "outputs": [],
   "source": [
    "# Function to generate embeddings for a text\n",
    "def generate_embedding(text: str) -> np.ndarray:\n",
    "    \"\"\"\n",
    "    Generate a text embedding using OpenAI's embedding API.\n",
    "    \"\"\"\n",
    "    response = client.embeddings.create(\n",
    "        input=text,\n",
    "        model=\"text-embedding-3-large\"\n",
    "    )\n",
    "    return np.array(response.data[0].embedding)\n"
   ]
  },
  {
   "cell_type": "code",
   "execution_count": 7,
   "id": "345d5514-b16a-44cc-a445-7bf158f75d5e",
   "metadata": {
    "execution": {
     "iopub.execute_input": "2024-12-13T11:58:40.746907Z",
     "iopub.status.busy": "2024-12-13T11:58:40.746792Z",
     "iopub.status.idle": "2024-12-13T11:58:40.756080Z",
     "shell.execute_reply": "2024-12-13T11:58:40.755772Z",
     "shell.execute_reply.started": "2024-12-13T11:58:40.746896Z"
    }
   },
   "outputs": [
    {
     "name": "stdout",
     "output_type": "stream",
     "text": [
      "[1018, 1020, 1022, 1024, 1026, 1028, 1030, 1032, 1034, 1036, 1038, 1040, 1042, 1044, 1046, 1048, 1050, 1052, 1054, 1056, 1058, 1060, 1062, 1064, 1066, 1068, 1070, 1072, 1074, 1076, 1078, 1080, 1082, 1084, 1086, 1088, 1090, 1092, 1094, 1097]\n"
     ]
    }
   ],
   "source": [
    "# Retrieve all items from Tropy\n",
    "items = tropy.get_all_items()\n",
    "print(items)"
   ]
  },
  {
   "cell_type": "code",
   "execution_count": 8,
   "id": "8178bbc8-36e7-47af-aecf-634c00e53e01",
   "metadata": {
    "execution": {
     "iopub.execute_input": "2024-12-13T11:58:40.756765Z",
     "iopub.status.busy": "2024-12-13T11:58:40.756676Z",
     "iopub.status.idle": "2024-12-13T11:58:40.760521Z",
     "shell.execute_reply": "2024-12-13T11:58:40.760236Z",
     "shell.execute_reply.started": "2024-12-13T11:58:40.756756Z"
    }
   },
   "outputs": [],
   "source": [
    "def process_images():\n",
    "    \"\"\"\n",
    "    Process images, generate captions and embeddings, and store them in the vector database.\n",
    "    \"\"\"\n",
    "    global metadata_store\n",
    "\n",
    "    for item in items:\n",
    "        try:\n",
    "            photos = tropy.get_item_photos(item)\n",
    "            if not photos:\n",
    "                print(f\"No photos found for item {item}\")\n",
    "                continue\n",
    "            \n",
    "            # Ensure photos is a list or iterable\n",
    "            if not isinstance(photos, list):\n",
    "                print(f\"Unexpected format for photos in item {item}: {photos}\")\n",
    "                continue\n",
    "\n",
    "            # Get the first photo -- TODO: handle multi-image / multi-page items\n",
    "            image_path = photos[0]\n",
    "\n",
    "            if not os.path.isfile(image_path):\n",
    "                print(f\"File not found: {image_path}\")\n",
    "                continue\n",
    "\n",
    "            # Generate a caption\n",
    "            caption = generate_caption(image_path)\n",
    "            caption = caption.replace(\"\\n\", \" \") \n",
    "                        \n",
    "            # Generate an embedding\n",
    "            embedding = generate_embedding(caption)\n",
    "            \n",
    "            # Add the embedding to the vector database\n",
    "            embedding_array = np.array([embedding], dtype=np.float32)\n",
    "\n",
    "            # Validate embedding before adding\n",
    "            if embedding_array.shape[1] != DIMENSION:\n",
    "                raise ValueError(f\"Embedding dimension mismatch. Expected {DIMENSION}, got {embedding_array.shape[1]}\")\n",
    "\n",
    "            index.add(embedding_array)\n",
    "                \n",
    "            # Store metadata\n",
    "            metadata_store[len(metadata_store)] = {\n",
    "                \"file_path\": image_path, # we probably don't need this\n",
    "                \"caption\": caption,\n",
    "                \"item_id\": item  # Adding Tropy item ID for traceability back to the application\n",
    "            }\n",
    "\n",
    "            \n",
    "#            print(f\"Processed {image_path}: {caption}\")\n",
    "        except ValueError as ve:\n",
    "            print(f\"ValueError while processing item {item}: {ve}\")\n",
    "        except Exception as e:\n",
    "            print(f\"Error processing item {item}: {e}\")\n"
   ]
  },
  {
   "cell_type": "code",
   "execution_count": 9,
   "id": "2a69d50c-b219-44c9-b946-1bef26f2d45d",
   "metadata": {
    "execution": {
     "iopub.execute_input": "2024-12-13T11:58:40.760927Z",
     "iopub.status.busy": "2024-12-13T11:58:40.760842Z",
     "iopub.status.idle": "2024-12-13T11:58:40.763674Z",
     "shell.execute_reply": "2024-12-13T11:58:40.763253Z",
     "shell.execute_reply.started": "2024-12-13T11:58:40.760918Z"
    }
   },
   "outputs": [],
   "source": [
    "# Function to search for images\n",
    "def search_images(query: str, top_k: int = 5) -> List[Tuple[str, str, str]]:\n",
    "    \"\"\"\n",
    "    Search for images using a natural language query.\n",
    "    Returns a list of tuples containing file_path, caption, and item_id.\n",
    "    \"\"\"\n",
    "    query_embedding = generate_embedding(query)\n",
    "\n",
    "    # Perform a similarity search\n",
    "    distances, indices = index.search(np.array([query_embedding], dtype=np.float32), top_k)\n",
    "\n",
    "    results = []\n",
    "    for i in range(len(indices[0])):\n",
    "        idx = indices[0][i]\n",
    "        if idx in metadata_store:\n",
    "            results.append((\n",
    "                metadata_store[idx][\"file_path\"],\n",
    "                metadata_store[idx][\"caption\"],\n",
    "                metadata_store[idx][\"item_id\"]\n",
    "            ))\n",
    "\n",
    "    return results"
   ]
  },
  {
   "cell_type": "code",
   "execution_count": 10,
   "id": "cd90a464-fd2f-44d3-a1f0-6d77257153ab",
   "metadata": {
    "execution": {
     "iopub.execute_input": "2024-12-13T11:58:40.764142Z",
     "iopub.status.busy": "2024-12-13T11:58:40.764016Z",
     "iopub.status.idle": "2024-12-13T12:01:55.641320Z",
     "shell.execute_reply": "2024-12-13T12:01:55.640395Z",
     "shell.execute_reply.started": "2024-12-13T11:58:40.764131Z"
    }
   },
   "outputs": [],
   "source": [
    "# Let's go!\n",
    "process_images()"
   ]
  },
  {
   "cell_type": "code",
   "execution_count": 11,
   "id": "6fad401a-885c-4dcc-a1b5-352401b8f436",
   "metadata": {
    "execution": {
     "iopub.execute_input": "2024-12-13T12:01:55.645625Z",
     "iopub.status.busy": "2024-12-13T12:01:55.642364Z",
     "iopub.status.idle": "2024-12-13T12:01:56.152807Z",
     "shell.execute_reply": "2024-12-13T12:01:56.151751Z",
     "shell.execute_reply.started": "2024-12-13T12:01:55.645547Z"
    }
   },
   "outputs": [],
   "source": [
    "# Perform a search\n",
    "query = \"Aerospace\"\n",
    "results = search_images(query)"
   ]
  },
  {
   "cell_type": "code",
   "execution_count": 12,
   "id": "9e817b13-656b-4d10-a573-42768c1b3e6e",
   "metadata": {
    "execution": {
     "iopub.execute_input": "2024-12-13T12:01:56.157514Z",
     "iopub.status.busy": "2024-12-13T12:01:56.153967Z",
     "iopub.status.idle": "2024-12-13T12:01:56.165795Z",
     "shell.execute_reply": "2024-12-13T12:01:56.165168Z",
     "shell.execute_reply.started": "2024-12-13T12:01:56.157450Z"
    }
   },
   "outputs": [
    {
     "name": "stdout",
     "output_type": "stream",
     "text": [
      "Image: /Users/stakats/Documents/Mason/CHNM/Tropy/Training/Tropy-HAEU/ELDO-4592_03.jpg, Caption: The photograph portrays a black and white image of a rocket on a launch pad. The rocket is vertically positioned and dominates the central portion of the image. It features a sleek, cylindrical design with distinct patterns and markings visible along its body. Near the top, the rocket narrows into a pointed tip, indicating its readiness for launch.  The setting is an open area under a clear sky, which stretches across a significant portion of the frame. The launch pad, visible at the bottom, includes supporting structures and scaffolding necessary for rocket support and maintenance. These structures appear intricate, with an array of beams and platforms.  In terms of composition, the photograph is well-balanced, with the rocket firmly placed in the center, drawing the viewer's eye upward. The, Item ID: 1048\n",
      "Image: /Users/stakats/Documents/Mason/CHNM/Tropy/Training/Tropy-HAEU/ELDO-4592_01.jpg, Caption: This black-and-white photograph captures a rocket on a launch pad, poised for takeoff. The rocket is centered in the composition, highlighting its vertical stature and engineering details. It features distinctive segments, possibly with color distinctions that are typical of rockets, though the grayscale image limits color identification.  The structure supporting the rocket is visible, with various platforms, railings, and cables designed for the launch preparation process. The launch gantry stands beside the rocket, equipped with several levels and technical appendages.  Above, the sky dominates the background, a vast expanse of light gray hues marked by subtle, wispy clouds, providing a stark contrast to the industrial complexity below.  Compositionally, the photograph is balanced, with the rocket and launch structure forming the focal, Item ID: 1052\n",
      "Image: /Users/stakats/Documents/Mason/CHNM/Tropy/Training/Tropy-HAEU/ELDO-4592_08.jpg, Caption: The photograph depicts a rocket launch. The rocket is captured mid-air, with visible exhaust and smoke trailing behind it as it ascends. The rocket's body features a distinct checkered pattern around its midsection. The lower section of the image shows the launch pad infrastructure, including a tall, skeletal launch tower. The sky in the background is overcast, providing a neutral backdrop that emphasizes the rocket's motion and plume.  Compositionally, this is a black-and-white photograph with strong vertical lines created by the rocket and launch tower. The contrast between the white exhaust and the darker sky adds dramatic visual emphasis to the rocket’s ascent. The photograph captures a moment of dynamic motion frozen in time, highlighting the technological achievement of the launch. The image is well, Item ID: 1038\n",
      "Image: /Users/stakats/Documents/Mason/CHNM/Tropy/Training/Tropy-HAEU/ELDO-4592_02.jpg, Caption: The photograph shows a vertical rocket positioned on a launch pad, ready for liftoff. The rocket is connected to a tall launch tower on its right side by several fuel or electrical lines. The base of the structure is surrounded by platform scaffolding and access walkways. This entire setup sits on a large flat platform typical of a launch site. The photo is in black and white, suggesting it might be historical. Above, the sky is mostly clear with a light scattering of clouds, allowing the rocket to stand out prominently against the backdrop.  Composition-wise, the photograph uses a central alignment, placing the rocket directly in the middle of the frame, drawing the viewer’s focus immediately to it. The lines from the tower and platform create a sense of tension, Item ID: 1050\n",
      "Image: /Users/stakats/Documents/Mason/CHNM/Tropy/Training/Tropy-HAEU/ELDO-4592_05.jpg, Caption: The photograph captures a rocket launching from a space facility. The rocket is vertically oriented, ascending amidst a plume of smoke and steam emanating from its base. The structure of the rocket is clearly visible, with various sections and possibly some markings discernible. Adjacent to the rocket is a launch tower, adding context to the launching scene.  **Composition Details:** - **Subject:** The rocket is centered in the frame, drawing the viewer’s attention to its ascent. - **Tone:** The photograph is in black and white, emphasizing contrasts and details. - **Background:** The sky forms a natural backdrop, appearing mostly clear, which highlights the rocket and the plume of smoke. - **Foreground:** The launch pad and adjacent structures provide a solid base for, Item ID: 1044\n"
     ]
    }
   ],
   "source": [
    "# Display results\n",
    "for file_path, caption, item_id in results:\n",
    "    print(f\"Image: {file_path}, Caption: {caption}, Item ID: {item_id}\")"
   ]
  },
  {
   "cell_type": "code",
   "execution_count": 13,
   "id": "d8c6845e-84b2-4c39-8499-c80b31b89bcd",
   "metadata": {
    "execution": {
     "iopub.execute_input": "2024-12-13T12:01:56.166939Z",
     "iopub.status.busy": "2024-12-13T12:01:56.166662Z",
     "iopub.status.idle": "2024-12-13T12:01:56.170364Z",
     "shell.execute_reply": "2024-12-13T12:01:56.169902Z",
     "shell.execute_reply.started": "2024-12-13T12:01:56.166914Z"
    }
   },
   "outputs": [],
   "source": [
    "matching_item_ids = [result[2] for result in results]  # Assuming item_id is the 3rd element in the tuple"
   ]
  },
  {
   "cell_type": "code",
   "execution_count": 14,
   "id": "e4016aa8-0e47-45f6-bc9b-caf7511979ae",
   "metadata": {
    "execution": {
     "iopub.execute_input": "2024-12-13T12:01:56.174261Z",
     "iopub.status.busy": "2024-12-13T12:01:56.173990Z",
     "iopub.status.idle": "2024-12-13T12:01:56.240960Z",
     "shell.execute_reply": "2024-12-13T12:01:56.240261Z",
     "shell.execute_reply.started": "2024-12-13T12:01:56.174246Z"
    }
   },
   "outputs": [],
   "source": [
    "# Tag matching items with the search query\n",
    "for item in matching_item_ids:\n",
    "    tropy.tag_item_by_tag_name(item, [query])"
   ]
  }
 ],
 "metadata": {
  "kernelspec": {
   "display_name": "Python 3 (ipykernel)",
   "language": "python",
   "name": "python3"
  },
  "language_info": {
   "codemirror_mode": {
    "name": "ipython",
    "version": 3
   },
   "file_extension": ".py",
   "mimetype": "text/x-python",
   "name": "python",
   "nbconvert_exporter": "python",
   "pygments_lexer": "ipython3",
   "version": "3.12.8"
  }
 },
 "nbformat": 4,
 "nbformat_minor": 5
}
