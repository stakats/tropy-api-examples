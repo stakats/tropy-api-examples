{
 "cells": [
  {
   "cell_type": "markdown",
   "metadata": {},
   "source": [
    "# Tag items including faces #\n",
    "This notebook analyzes Tropy item photos for faces. If it finds them, it tags the Tropy item `People`"
   ]
  },
  {
   "cell_type": "code",
   "execution_count": 1,
   "metadata": {},
   "outputs": [],
   "source": [
    "import cv2\n",
    "import tropy"
   ]
  },
  {
   "cell_type": "code",
   "execution_count": 2,
   "metadata": {},
   "outputs": [],
   "source": [
    "# The tropy module defaults to http://localhost:2019; uncomment and set address/port here only if necessary \n",
    "# tropy.api_url_base = \"http://host:port\""
   ]
  },
  {
   "cell_type": "code",
   "execution_count": 3,
   "metadata": {},
   "outputs": [],
   "source": [
    "# Configure to look for faces\n",
    "\n",
    "cascPath = cv2.data.haarcascades + \"haarcascade_frontalface_default.xml\"\n",
    "\n",
    "# Create the haar cascade\n",
    "\n",
    "faceCascade = cv2.CascadeClassifier(cascPath)"
   ]
  },
  {
   "cell_type": "code",
   "execution_count": 4,
   "metadata": {},
   "outputs": [],
   "source": [
    "# Analyze an image for faces and count the results\n",
    "# (drawing on may examples out there, e.g. https://realpython.com/face-recognition-with-python/) \n",
    "\n",
    "def count_faces(imagePath):\n",
    "    # Read the image\n",
    "    image = cv2.imread(imagePath)\n",
    "    gray = cv2.cvtColor(image, cv2.COLOR_BGR2GRAY)\n",
    "\n",
    "    # Detect faces in the image\n",
    "    faces = faceCascade.detectMultiScale(\n",
    "        gray,\n",
    "        scaleFactor=1.1,\n",
    "        minNeighbors=5,\n",
    "        minSize=(30, 30)\n",
    "    )\n",
    "\n",
    "    return len(faces)"
   ]
  },
  {
   "cell_type": "code",
   "execution_count": 5,
   "metadata": {},
   "outputs": [],
   "source": [
    "# Get the images a from each Tropy item in list of items\n",
    "# Since we are only interested in groups of people, we'll set a threshold of faces to ignore false positives\n",
    "# If item has any photo above the threshold, tag item as \"People\"\n",
    "\n",
    "items = tropy.get_all_items()\n",
    "threshold = 5\n",
    "tags = ['People']\n",
    "\n",
    "for item in items:\n",
    "    photos = tropy.get_item_photos(item)\n",
    "    for photo in photos:\n",
    "        faces = count_faces(photo)\n",
    "        if faces > threshold:\n",
    "            tropy.tag_item_by_tag_name(item, tags)\n",
    "            break"
   ]
  }
 ],
 "metadata": {
  "kernelspec": {
   "display_name": "Python 3",
   "language": "python",
   "name": "python3"
  },
  "language_info": {
   "codemirror_mode": {
    "name": "ipython",
    "version": 3
   },
   "file_extension": ".py",
   "mimetype": "text/x-python",
   "name": "python",
   "nbconvert_exporter": "python",
   "pygments_lexer": "ipython3",
   "version": "3.7.5"
  }
 },
 "nbformat": 4,
 "nbformat_minor": 2
}
