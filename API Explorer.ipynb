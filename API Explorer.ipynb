{
 "cells": [
  {
   "cell_type": "markdown",
   "metadata": {},
   "source": [
    "# Explore the Tropy API #\n",
    "This notebook interacts with the currently open Tropy project, allowing you to view item metadata and add/remove tags."
   ]
  },
  {
   "cell_type": "code",
   "execution_count": 1,
   "metadata": {},
   "outputs": [],
   "source": [
    "import tropy"
   ]
  },
  {
   "cell_type": "code",
   "execution_count": 2,
   "metadata": {},
   "outputs": [],
   "source": [
    "# The tropy module defaults to http://localhost:2019; uncomment and set address/port here only if necessary \n",
    "# tropy.api_url_base = \"http://host:port\""
   ]
  },
  {
   "cell_type": "code",
   "execution_count": 3,
   "metadata": {},
   "outputs": [
    {
     "data": {
      "text/plain": [
       "[1,\n",
       " 3,\n",
       " 5,\n",
       " 7,\n",
       " 9,\n",
       " 11,\n",
       " 13,\n",
       " 15,\n",
       " 17,\n",
       " 19,\n",
       " 21,\n",
       " 23,\n",
       " 25,\n",
       " 27,\n",
       " 29,\n",
       " 31,\n",
       " 33,\n",
       " 35,\n",
       " 37,\n",
       " 39,\n",
       " 41,\n",
       " 43,\n",
       " 45,\n",
       " 47,\n",
       " 49,\n",
       " 51,\n",
       " 53,\n",
       " 55,\n",
       " 57,\n",
       " 59,\n",
       " 61,\n",
       " 63,\n",
       " 65,\n",
       " 67,\n",
       " 69,\n",
       " 71,\n",
       " 73,\n",
       " 75,\n",
       " 77]"
      ]
     },
     "execution_count": 3,
     "metadata": {},
     "output_type": "execute_result"
    }
   ],
   "source": [
    "tropy.get_all_items()"
   ]
  },
  {
   "cell_type": "code",
   "execution_count": 4,
   "metadata": {},
   "outputs": [
    {
     "name": "stdout",
     "output_type": "stream",
     "text": [
      "{'created': '2019-10-29T16:49:00.000Z', 'deleted': False, 'id': 1, 'lists': [], 'modified': '2019-10-29T16:49:00.000Z', 'photos': [2], 'tags': [6, 8, 9], 'template': 'https://tropy.org/v1/templates/id#4AlBuhlwp'}\n"
     ]
    }
   ],
   "source": [
    "print(tropy.get_item('1'))"
   ]
  },
  {
   "cell_type": "code",
   "execution_count": 5,
   "metadata": {},
   "outputs": [
    {
     "name": "stdout",
     "output_type": "stream",
     "text": [
      "{'http://ns.adobe.com/photoshop/1.0/Country': {'text': 'Mali', 'type': 'http://www.w3.org/2001/XMLSchema#string'}, 'http://ns.adobe.com/photoshop/1.0/Credit': {'text': 'European Development Fund / HAEU, BAC-025-1980-797', 'type': 'http://www.w3.org/2001/XMLSchema#string'}, 'http://ns.adobe.com/photoshop/1.0/DateCreated': {'text': '2018-02-07T11:08:39.059', 'type': 'https://tropy.org/v1/tropy#date'}, 'http://ns.adobe.com/photoshop/1.0/Source': {'text': 'Historical Archives of the European Union ', 'type': 'http://www.w3.org/2001/XMLSchema#string'}, 'http://ns.adobe.com/xap/1.0/MetadataDate': {'text': '2018-03-16T15:59:13+01:00', 'type': 'https://tropy.org/v1/tropy#date'}, 'http://ns.adobe.com/xap/1.0/rights/UsageTerms': {'text': 'Consult the complete set of regulations concerning the access, use and reproduction of archival resources published on the web site of the Historical Archives of the European Union: https://www.eui.eu/Research/HistoricalArchivesOfEU/AbouttheHistoricalArchives/AccessPolicy', 'type': 'http://www.w3.org/2001/XMLSchema#string'}, 'http://purl.org/dc/elements/1.1/creator': {'text': 'Unknown author', 'type': 'http://www.w3.org/2001/XMLSchema#string'}, 'http://purl.org/dc/elements/1.1/description': {'text': 'Agricultural production project of the European Development Fund (EDF) in Mali in 1968', 'type': 'http://www.w3.org/2001/XMLSchema#string'}, 'http://purl.org/dc/elements/1.1/title': {'text': 'BAC-025-1980-797_07', 'type': 'http://www.w3.org/2001/XMLSchema#string'}, 'id': 1}\n"
     ]
    }
   ],
   "source": [
    "print(tropy.get_item_data('1'))"
   ]
  },
  {
   "cell_type": "code",
   "execution_count": 6,
   "metadata": {},
   "outputs": [
    {
     "data": {
      "text/plain": [
       "[{'color': '',\n",
       "  'created': '2019-12-11 14:35:16',\n",
       "  'id': 9,\n",
       "  'modified': '2019-12-11 14:35:16',\n",
       "  'name': 'Lake'},\n",
       " {'color': 'blue',\n",
       "  'created': '2019-10-30 12:00:07',\n",
       "  'id': 1,\n",
       "  'modified': '2019-10-30 12:00:07',\n",
       "  'name': 'Ocean'},\n",
       " {'color': 'red',\n",
       "  'created': '2019-10-30 22:26:59',\n",
       "  'id': 6,\n",
       "  'modified': '2019-10-30 22:26:59',\n",
       "  'name': 'Rockets'},\n",
       " {'color': 'green',\n",
       "  'created': '2019-10-30 12:50:05',\n",
       "  'id': 2,\n",
       "  'modified': '2019-10-30 12:50:05',\n",
       "  'name': 'Sea'},\n",
       " {'color': 'yellow',\n",
       "  'created': '2019-12-11 13:31:09',\n",
       "  'id': 8,\n",
       "  'modified': '2019-12-11 13:31:09',\n",
       "  'name': 'Tractors'}]"
      ]
     },
     "execution_count": 6,
     "metadata": {},
     "output_type": "execute_result"
    }
   ],
   "source": [
    "tropy.get_tags()"
   ]
  },
  {
   "cell_type": "code",
   "execution_count": 7,
   "metadata": {},
   "outputs": [],
   "source": [
    "tropy.tag_item_by_tag_ID('1', ['2', '8', '1'])"
   ]
  },
  {
   "cell_type": "code",
   "execution_count": 8,
   "metadata": {},
   "outputs": [],
   "source": [
    "tropy.tag_item_by_tag_name('1', ['Ocean', 'Sea', 'Lake'])"
   ]
  },
  {
   "cell_type": "code",
   "execution_count": 9,
   "metadata": {},
   "outputs": [],
   "source": [
    "tropy.untag_item_by_tag_name('1', ['Ocean', 'Sea'])"
   ]
  },
  {
   "cell_type": "code",
   "execution_count": 10,
   "metadata": {},
   "outputs": [
    {
     "data": {
      "text/plain": [
       "['/Users/stakats/Development/jupyter notebooks/tropy/junk/img/BAC-025-1980-797_07.jpg']"
      ]
     },
     "execution_count": 10,
     "metadata": {},
     "output_type": "execute_result"
    }
   ],
   "source": [
    "tropy.get_item_photos('1')"
   ]
  }
 ],
 "metadata": {
  "kernelspec": {
   "display_name": "Python 3",
   "language": "python",
   "name": "python3"
  },
  "language_info": {
   "codemirror_mode": {
    "name": "ipython",
    "version": 3
   },
   "file_extension": ".py",
   "mimetype": "text/x-python",
   "name": "python",
   "nbconvert_exporter": "python",
   "pygments_lexer": "ipython3",
   "version": "3.7.5"
  }
 },
 "nbformat": 4,
 "nbformat_minor": 2
}
